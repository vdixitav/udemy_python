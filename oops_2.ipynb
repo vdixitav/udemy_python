{
 "cells": [
  {
   "cell_type": "markdown",
   "metadata": {},
   "source": [
    "Inheretence"
   ]
  },
  {
   "cell_type": "code",
   "execution_count": 4,
   "metadata": {},
   "outputs": [
    {
     "name": "stdout",
     "output_type": "stream",
     "text": [
      "10\n",
      "10\n"
     ]
    }
   ],
   "source": [
    "class P:\n",
    "    a=10\n",
    "\n",
    "    def __init__(self) :\n",
    "        self.b=10\n",
    "\n",
    "    def m1(self):\n",
    "        print(\"parent instance method\")\n",
    "\n",
    "    @classmethod\n",
    "    def m2(cls): \n",
    "        print(\"parent class method\")\n",
    "\n",
    "    @staticmethod\n",
    "\n",
    "    def m3():\n",
    "        print(\"parent statis method\") \n",
    "\n",
    "\n",
    "class C(P):\n",
    "    pass\n",
    "\n",
    "c=C()\n",
    "print(c.a)\n",
    "print(c.b)\n",
    "\n",
    "# c.m1()\n",
    "# c.m2()\n",
    "# c.m3()"
   ]
  },
  {
   "cell_type": "code",
   "execution_count": 5,
   "metadata": {},
   "outputs": [
    {
     "name": "stdout",
     "output_type": "stream",
     "text": [
      "parent class method\n",
      "child clss method\n"
     ]
    }
   ],
   "source": [
    "class P:\n",
    "    def m1(self):\n",
    "        print(\"parent class method\")\n",
    "class C(P):\n",
    "    def m2 (self):\n",
    "        print(\"child clss method\")\n",
    "\n",
    "c=C()\n",
    "c.m1()\n",
    "c.m2()\n"
   ]
  },
  {
   "cell_type": "code",
   "execution_count": 14,
   "metadata": {},
   "outputs": [
    {
     "ename": "AttributeError",
     "evalue": "'C' object has no attribute 'b'",
     "output_type": "error",
     "traceback": [
      "\u001b[1;31m---------------------------------------------------------------------------\u001b[0m",
      "\u001b[1;31mAttributeError\u001b[0m                            Traceback (most recent call last)",
      "Cell \u001b[1;32mIn[14], line 17\u001b[0m\n\u001b[0;32m     13\u001b[0m         \u001b[38;5;28mself\u001b[39m\u001b[38;5;241m.\u001b[39md\u001b[38;5;241m=\u001b[39m\u001b[38;5;241m50\u001b[39m\n\u001b[0;32m     16\u001b[0m c1\u001b[38;5;241m=\u001b[39mC()        \n\u001b[1;32m---> 17\u001b[0m \u001b[38;5;28mprint\u001b[39m(c1\u001b[38;5;241m.\u001b[39ma,\u001b[43mc1\u001b[49m\u001b[38;5;241;43m.\u001b[39;49m\u001b[43mb\u001b[49m,c1\u001b[38;5;241m.\u001b[39mc,c1\u001b[38;5;241m.\u001b[39md)     \n",
      "\u001b[1;31mAttributeError\u001b[0m: 'C' object has no attribute 'b'"
     ]
    }
   ],
   "source": [
    "# child parent variables\n",
    "\n",
    "class P:\n",
    "    a=90\n",
    "    def __init__(self):\n",
    "        self.b=70\n",
    "\n",
    "class C(P):\n",
    "    c=80\n",
    "    def __init__(self):\n",
    "        \n",
    "        super().__init__()\n",
    "        self.d=50\n",
    "\n",
    "\n",
    "c1=C()        \n",
    "print(c1.a,c1.b,c1.c,c1.d)     "
   ]
  },
  {
   "cell_type": "code",
   "execution_count": 13,
   "metadata": {},
   "outputs": [],
   "source": [
    "# DEMO FOR INHERETENCE\n",
    "\n"
   ]
  },
  {
   "cell_type": "code",
   "execution_count": 15,
   "metadata": {},
   "outputs": [
    {
     "name": "stdout",
     "output_type": "stream",
     "text": [
      "eat biryani and drink beer\n",
      "e name DIXITHA\n",
      "emp age 30\n",
      "emp no 135\n",
      "emp salary 99000\n",
      "xyz\n"
     ]
    }
   ],
   "source": [
    "class Person:\n",
    "    def __init__(self,name,age):\n",
    "        self.name=name\n",
    "        self.age=age\n",
    "\n",
    "    def eatndrink(self):\n",
    "        print(\"eat biryani and drink beer\") \n",
    "\n",
    "class Employee(Person):\n",
    "    def __init__(self,name,age,eno,esal):\n",
    "        super().__init__(name,age)\n",
    "\n",
    "        self.eno=eno\n",
    "        self.esal=esal\n",
    "\n",
    "    def work(self):\n",
    "        print(\"xyz\")\n",
    "\n",
    "    def empinfo(self):\n",
    "        print(\"e name\",self.name)\n",
    "        print(\"emp age\",self.age)\n",
    "        print(\"emp no\",self.eno)\n",
    "        print(\"emp salary\",self.esal)\n",
    "\n",
    "e=Employee(\"DIXITHA\",30,135,99000) \n",
    "e.eatndrink()\n",
    "e.empinfo()\n",
    "e.work()               \n",
    "               \n",
    "        "
   ]
  },
  {
   "cell_type": "markdown",
   "metadata": {},
   "source": [
    "Types of Inheretance"
   ]
  },
  {
   "cell_type": "markdown",
   "metadata": {},
   "source": [
    "1) Single iheretance\n"
   ]
  },
  {
   "cell_type": "code",
   "execution_count": 18,
   "metadata": {},
   "outputs": [
    {
     "name": "stdout",
     "output_type": "stream",
     "text": [
      "parent class\n",
      "child class\n"
     ]
    }
   ],
   "source": [
    "# inheriting properties from one clas to onother\n",
    "class P:\n",
    "    def m1(self):\n",
    "        print(\"parent class\")\n",
    "\n",
    "class C(P):\n",
    "    def m2 (self):\n",
    "        print(\"child class\")\n",
    "\n",
    "c5=C()\n",
    "c5.m1()\n",
    "c5.m2()            "
   ]
  },
  {
   "cell_type": "markdown",
   "metadata": {},
   "source": [
    "2) multi level inheretance\n"
   ]
  },
  {
   "cell_type": "code",
   "execution_count": 19,
   "metadata": {},
   "outputs": [],
   "source": [
    "# inhereting properties from multiclass to single class\n"
   ]
  },
  {
   "cell_type": "code",
   "execution_count": 21,
   "metadata": {},
   "outputs": [
    {
     "name": "stdout",
     "output_type": "stream",
     "text": [
      "parent method\n",
      "sub child method\n",
      "child method\n"
     ]
    }
   ],
   "source": [
    "class P:\n",
    "    def m1(self):\n",
    "        print(\"parent method\")\n",
    "\n",
    "class C(P):\n",
    "    def m2(self):\n",
    "        print (\"child method\")\n",
    "\n",
    "class CC(C) :\n",
    "    def m3(self):\n",
    "        print(\"sub child method\")\n",
    "\n",
    "\n",
    "c=CC()\n",
    "c.m1()\n",
    "c.m3()\n",
    "c.m2()                      "
   ]
  },
  {
   "cell_type": "markdown",
   "metadata": {},
   "source": [
    "3) hierarchical inheretence"
   ]
  },
  {
   "cell_type": "code",
   "execution_count": 26,
   "metadata": {},
   "outputs": [
    {
     "name": "stdout",
     "output_type": "stream",
     "text": [
      "parent method\n",
      "child 1\n",
      "parent method\n",
      "child 2\n"
     ]
    }
   ],
   "source": [
    "class P:\n",
    "    def m1(self):\n",
    "        print(\"parent method\")\n",
    "\n",
    "class C1(P):\n",
    "    def m2(self):\n",
    "        print(\"child 1\")\n",
    "\n",
    "class C2(P):\n",
    "    def m3(self):\n",
    "        print(\"child 2\") \n",
    "\n",
    "\n",
    "c=C1()\n",
    "c.m1()\n",
    "c.m2()\n",
    "\n",
    "\n",
    "c1=C2()\n",
    "c1.m1()\n",
    "c1.m3()\n"
   ]
  },
  {
   "cell_type": "markdown",
   "metadata": {},
   "source": [
    "Multiple inheretence"
   ]
  },
  {
   "cell_type": "code",
   "execution_count": 27,
   "metadata": {},
   "outputs": [
    {
     "name": "stdout",
     "output_type": "stream",
     "text": [
      "parent 1\n",
      "parent 2\n",
      "combine child\n"
     ]
    }
   ],
   "source": [
    "class P1:\n",
    "    def m1(self):\n",
    "        print(\"parent 1\")\n",
    "\n",
    "class P2:\n",
    "    def m2(self):\n",
    "        print(\"parent 2\")\n",
    "\n",
    "class C(P1,P2):\n",
    "    def m3(self):\n",
    "        print(\"combine child\")\n",
    "\n",
    "c=C()\n",
    "c.m1()\n",
    "c.m2()\n",
    "c.m3()        \n",
    "                    "
   ]
  },
  {
   "cell_type": "markdown",
   "metadata": {},
   "source": [
    "Hybrid inheretence"
   ]
  },
  {
   "cell_type": "code",
   "execution_count": null,
   "metadata": {},
   "outputs": [],
   "source": []
  }
 ],
 "metadata": {
  "kernelspec": {
   "display_name": "Python 3",
   "language": "python",
   "name": "python3"
  },
  "language_info": {
   "codemirror_mode": {
    "name": "ipython",
    "version": 3
   },
   "file_extension": ".py",
   "mimetype": "text/x-python",
   "name": "python",
   "nbconvert_exporter": "python",
   "pygments_lexer": "ipython3",
   "version": "3.10.6"
  }
 },
 "nbformat": 4,
 "nbformat_minor": 2
}
