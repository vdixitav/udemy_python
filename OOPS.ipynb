{
 "cells": [
  {
   "cell_type": "code",
   "execution_count": null,
   "metadata": {},
   "outputs": [],
   "source": [
    "# classes and object\n",
    "\n"
   ]
  },
  {
   "cell_type": "code",
   "execution_count": 1,
   "metadata": {},
   "outputs": [
    {
     "name": "stdout",
     "output_type": "stream",
     "text": [
      "<class '__main__.car'>\n"
     ]
    }
   ],
   "source": [
    "#class: blue print of creating object,attribute,method \n",
    "\n",
    "class car:\n",
    "    pass\n",
    "\n",
    "audi=car()\n",
    "bmw=car()\n",
    "\n",
    "print(type(bmw))"
   ]
  },
  {
   "cell_type": "code",
   "execution_count": 3,
   "metadata": {},
   "outputs": [
    {
     "name": "stdout",
     "output_type": "stream",
     "text": [
      "<__main__.car object at 0x000001F8C0AF6680>\n",
      "<__main__.car object at 0x000001F8C0AF4880>\n"
     ]
    }
   ],
   "source": [
    "print(audi)\n",
    "print(bmw)"
   ]
  },
  {
   "cell_type": "code",
   "execution_count": 8,
   "metadata": {},
   "outputs": [
    {
     "name": "stdout",
     "output_type": "stream",
     "text": [
      "<__main__.Dog object at 0x000001F8C0CA96F0>\n",
      "buddy\n",
      "4\n"
     ]
    }
   ],
   "source": [
    "### instance variable and Methods\n",
    "\n",
    "class Dog:\n",
    "    ##contructor\n",
    "\n",
    "    def __init__ (self,name,age):\n",
    "        self.name=name\n",
    "        self.age=age\n",
    "\n",
    "        ## create object\n",
    "\n",
    "dog1=Dog(\"buddy\",3)\n",
    "print(dog1) \n",
    "print(dog1.name)    \n",
    "\n",
    "\n",
    "dog2=Dog('lussi',4)\n",
    "print(dog2.age)\n",
    "\n",
    "\n",
    "        \n"
   ]
  },
  {
   "cell_type": "code",
   "execution_count": 10,
   "metadata": {},
   "outputs": [
    {
     "name": "stdout",
     "output_type": "stream",
     "text": [
      "buddy ,8says woof\n"
     ]
    }
   ],
   "source": [
    "## class with instance method\n",
    "\n",
    "class Dog:\n",
    "    def __init__(self,name,age):\n",
    "        self.name=name\n",
    "        self.age=age\n",
    "\n",
    "       ## instant methods\n",
    "    def bark(self):\n",
    "        print(f'{self.name} ,{self.age}says woof')\n",
    "\n",
    "dog1=Dog('buddy',8)\n",
    "\n",
    "\n",
    "dog1.bark()\n",
    "        \n",
    "\n",
    "\n",
    "\n"
   ]
  },
  {
   "cell_type": "code",
   "execution_count": 12,
   "metadata": {},
   "outputs": [
    {
     "name": "stdout",
     "output_type": "stream",
     "text": [
      "100000000000\n",
      "90 is deposited .New balance is 100000000090\n",
      "<bound method BankAccount.deposit of <__main__.BankAccount object at 0x000001F8C0CA8B80>>\n"
     ]
    }
   ],
   "source": [
    "# modeling bank account\n",
    "\n",
    "#define bank acc\n",
    "\n",
    "class BankAccount:\n",
    "    def __init__(self,owner, balance=0):\n",
    "        self.owner=owner\n",
    "        self.balance=balance\n",
    "\n",
    "    def deposit(self,amount):\n",
    "        self.balance+=amount\n",
    "        print(f'{amount} is deposited .New balance is {self.balance}')\n",
    "\n",
    "    def withdraw(self,amount):\n",
    "        if    amount>self.balance:\n",
    "            print(\"insufficient funds\")\n",
    "\n",
    "        else:\n",
    "            self.balance-=amount\n",
    "            print(f'{amount} is witdrawn New balance is {self.balance}')\n",
    "\n",
    "    def  get_balance(self):\n",
    "        return self.balance\n",
    "    \n",
    "## create account\n",
    "account=BankAccount(\"DIXITHA\",100000000000)\n",
    "print(account.balance)\n",
    "\n",
    "## CALL INSTANCE METHOD\n",
    "account.deposit(90)\n",
    "print(account.deposit)\n",
    "\n",
    "\n",
    "\n",
    "\n",
    "\n",
    "\n"
   ]
  },
  {
   "cell_type": "code",
   "execution_count": null,
   "metadata": {},
   "outputs": [],
   "source": []
  }
 ],
 "metadata": {
  "kernelspec": {
   "display_name": "Python 3",
   "language": "python",
   "name": "python3"
  },
  "language_info": {
   "codemirror_mode": {
    "name": "ipython",
    "version": 3
   },
   "file_extension": ".py",
   "mimetype": "text/x-python",
   "name": "python",
   "nbconvert_exporter": "python",
   "pygments_lexer": "ipython3",
   "version": "3.10.6"
  }
 },
 "nbformat": 4,
 "nbformat_minor": 2
}
