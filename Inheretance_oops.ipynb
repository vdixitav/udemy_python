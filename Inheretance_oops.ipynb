{
 "cells": [
  {
   "cell_type": "code",
   "execution_count": 1,
   "metadata": {},
   "outputs": [],
   "source": [
    "## it allows a class to inherit attributes and methods from onother class.this covers single inheritence and multiple inherritence"
   ]
  },
  {
   "cell_type": "code",
   "execution_count": 2,
   "metadata": {},
   "outputs": [],
   "source": [
    "### Single inheretence\n",
    "\n",
    "## defining parent class\n",
    "class Car:\n",
    "    def __init__(self,windows,Door,Enginetype):\n",
    "        self.windows =windows\n",
    "        self.Door=Door\n",
    "        self.Enginetype=Enginetype\n",
    "\n",
    "    def drive(self):\n",
    "        print(f\"the perosn will drive whick {self.Enginetype} car\")    "
   ]
  },
  {
   "cell_type": "code",
   "execution_count": 9,
   "metadata": {},
   "outputs": [
    {
     "name": "stdout",
     "output_type": "stream",
     "text": [
      "the perosn will drive whick CNG car\n",
      "None\n"
     ]
    }
   ],
   "source": [
    "car1=Car(4,4,'CNG')\n",
    "\n",
    "print(car1.drive())"
   ]
  },
  {
   "cell_type": "code",
   "execution_count": 11,
   "metadata": {},
   "outputs": [],
   "source": [
    "class Tesla(Car):\n",
    "    def __init__(self,windows,Door,Enginetype,is_selfdriving):\n",
    "        super().__init__(windows,Door,Enginetype)\n",
    "        self.is_selfdriving=is_selfdriving\n",
    "\n",
    "    def selfdriving(self):\n",
    "        print(f\"Tesla support{self.is_selfdriving} for self drive\") \n"
   ]
  },
  {
   "cell_type": "code",
   "execution_count": 14,
   "metadata": {},
   "outputs": [
    {
     "name": "stdout",
     "output_type": "stream",
     "text": [
      "Tesla supportTrue for self drive\n",
      "the perosn will drive whick CNG car\n"
     ]
    }
   ],
   "source": [
    "tesla1=Tesla(10,5,'CNG',True)\n",
    "tesla1.selfdriving()\n",
    "tesla1.drive()"
   ]
  },
  {
   "cell_type": "code",
   "execution_count": 15,
   "metadata": {},
   "outputs": [],
   "source": [
    "### Multiple Inheretence\n",
    "## when a class inheretes more than one base class"
   ]
  },
  {
   "cell_type": "code",
   "execution_count": 16,
   "metadata": {},
   "outputs": [
    {
     "name": "stdout",
     "output_type": "stream",
     "text": [
      "Buddy says woof\n"
     ]
    }
   ],
   "source": [
    "class Animal:  # base class 1\n",
    "    def __init__(self,name):\n",
    "        self.name=name\n",
    "\n",
    "    def speak(self):\n",
    "        print(\"Sub classes must impliment\")  \n",
    "\n",
    "\n",
    "class Pet:   # Base class 2\n",
    "    def __init__(self,owner):\n",
    "        self.owner=owner \n",
    "\n",
    "# Derived class\n",
    "class Dog(Animal,Pet) :\n",
    "    def __init__(self,name,owner):\n",
    "        Animal.__init__(self,name)\n",
    "        Pet.__init__(self,owner)\n",
    "\n",
    "    def speak(self):\n",
    "        return f\"{self.name} says woof\"\n",
    "    \n",
    "    #create object\n",
    "\n",
    "dog=Dog(\"Buddy\",'Dixitha')\n",
    "print(dog.speak())\n",
    "\n",
    "\n",
    "\n",
    "\n",
    "\n"
   ]
  },
  {
   "cell_type": "code",
   "execution_count": null,
   "metadata": {},
   "outputs": [],
   "source": []
  }
 ],
 "metadata": {
  "kernelspec": {
   "display_name": "Python 3",
   "language": "python",
   "name": "python3"
  },
  "language_info": {
   "codemirror_mode": {
    "name": "ipython",
    "version": 3
   },
   "file_extension": ".py",
   "mimetype": "text/x-python",
   "name": "python",
   "nbconvert_exporter": "python",
   "pygments_lexer": "ipython3",
   "version": "3.10.6"
  }
 },
 "nbformat": 4,
 "nbformat_minor": 2
}
