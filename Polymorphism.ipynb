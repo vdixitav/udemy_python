{
 "cells": [
  {
   "cell_type": "code",
   "execution_count": 1,
   "metadata": {},
   "outputs": [],
   "source": [
    "##Polymorphism\n",
    "# it provids a way to perform a singlr action in different form\n",
    "# overriding and interfaces"
   ]
  },
  {
   "cell_type": "code",
   "execution_count": 2,
   "metadata": {},
   "outputs": [],
   "source": [
    "#Override\n",
    "# it is provide specific implementaion of method that already defined in its parent class"
   ]
  },
  {
   "cell_type": "code",
   "execution_count": 5,
   "metadata": {},
   "outputs": [
    {
     "name": "stdout",
     "output_type": "stream",
     "text": [
      "Dixitha\n",
      "Hey ,this is me\n"
     ]
    }
   ],
   "source": [
    "# bASE CLASS\n",
    "class Animal:\n",
    "    def speak(self):\n",
    "        return \"sound of animal\"\n",
    "    \n",
    "#Derived clas\n",
    "class Dog(Animal):\n",
    "    def speak(self):\n",
    "        return \"Dixitha\" \n",
    "     # the method is already define in prent but in child class implementaion is diff\n",
    "\n",
    "#Derived class\n",
    "class Cat(Animal):\n",
    "    def speak(self):\n",
    "        return \"Hey ,this is me\"\n",
    "    \n",
    "\n",
    "dog=Dog()\n",
    "print(dog.speak())    \n",
    "\n",
    "cat=Cat()\n",
    "print(cat.speak())\n",
    "\n"
   ]
  },
  {
   "cell_type": "code",
   "execution_count": null,
   "metadata": {},
   "outputs": [],
   "source": []
  }
 ],
 "metadata": {
  "kernelspec": {
   "display_name": "Python 3",
   "language": "python",
   "name": "python3"
  },
  "language_info": {
   "codemirror_mode": {
    "name": "ipython",
    "version": 3
   },
   "file_extension": ".py",
   "mimetype": "text/x-python",
   "name": "python",
   "nbconvert_exporter": "python",
   "pygments_lexer": "ipython3",
   "version": "3.10.6"
  }
 },
 "nbformat": 4,
 "nbformat_minor": 2
}
