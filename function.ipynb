{
 "cells": [
  {
   "cell_type": "code",
   "execution_count": 24,
   "metadata": {},
   "outputs": [],
   "source": [
    "def odd_even_function(num):\n",
    "    \"\"\"this functio will giv odd and even number\"\"\"\n",
    "\n",
    "    if num%2==0:\n",
    "        print(\"given number is even\")\n",
    "\n",
    "    else:\n",
    "        print(\"the given number is odd\")    "
   ]
  },
  {
   "cell_type": "code",
   "execution_count": 25,
   "metadata": {},
   "outputs": [
    {
     "name": "stdout",
     "output_type": "stream",
     "text": [
      "given number is even\n"
     ]
    }
   ],
   "source": [
    "odd_even_function(78)"
   ]
  },
  {
   "cell_type": "code",
   "execution_count": 26,
   "metadata": {},
   "outputs": [],
   "source": [
    "#  function with multiple paramerts\n",
    "\n",
    "def add (a,b):\n",
    "    c=a+b\n",
    "\n",
    "    return c\n"
   ]
  },
  {
   "cell_type": "code",
   "execution_count": 27,
   "metadata": {},
   "outputs": [
    {
     "data": {
      "text/plain": [
       "7"
      ]
     },
     "execution_count": 27,
     "metadata": {},
     "output_type": "execute_result"
    }
   ],
   "source": [
    "add(3,4)"
   ]
  },
  {
   "cell_type": "code",
   "execution_count": 28,
   "metadata": {},
   "outputs": [
    {
     "name": "stdout",
     "output_type": "stream",
     "text": [
      "hello dixitha welcome to new world\n"
     ]
    }
   ],
   "source": [
    "# default parameter\n",
    "\n",
    "def great(name):\n",
    "    print(f\"hello {name} welcome to new world\")\n",
    "\n",
    "great(\"dixitha\")    "
   ]
  },
  {
   "cell_type": "code",
   "execution_count": 29,
   "metadata": {},
   "outputs": [
    {
     "name": "stdout",
     "output_type": "stream",
     "text": [
      "hello guest welcome to new world\n"
     ]
    }
   ],
   "source": [
    "#default value\n",
    "def great(name='guest'):\n",
    "    print(f\"hello {name} welcome to new world\")\n",
    "\n",
    "great()   "
   ]
  },
  {
   "cell_type": "code",
   "execution_count": 30,
   "metadata": {},
   "outputs": [],
   "source": [
    "# variable lenghts arguments\n",
    "#positional and keyword arguments\n",
    "\n",
    "def print_numbers(*dixitha):\n",
    "    for number in dixitha:\n",
    "        print(number)"
   ]
  },
  {
   "cell_type": "code",
   "execution_count": 31,
   "metadata": {},
   "outputs": [
    {
     "name": "stdout",
     "output_type": "stream",
     "text": [
      "1\n",
      "2\n",
      "3\n",
      "4\n",
      "1\n",
      "2\n",
      "3\n",
      "3\n",
      "3\n"
     ]
    }
   ],
   "source": [
    "print_numbers(1,2,3,4)# posional arguments\n",
    "\n",
    "\n",
    "\n",
    "\n",
    "\n",
    "def print_numbers(*args):\n",
    "    for number in args:\n",
    "        print(number)\n",
    "\n",
    "\n",
    "\n",
    "print_numbers(1,2,3,3,3)       "
   ]
  },
  {
   "cell_type": "code",
   "execution_count": 32,
   "metadata": {},
   "outputs": [],
   "source": [
    "#key words arguments\n",
    "#in keykey words arguments all parameteers should be in key value pair\n",
    "\n",
    "\n",
    "def print_details(**kwargs):\n",
    "    for key,value in kwargs.items():\n",
    "        print(f\"{key}:{value}\" )"
   ]
  },
  {
   "cell_type": "code",
   "execution_count": 33,
   "metadata": {},
   "outputs": [
    {
     "name": "stdout",
     "output_type": "stream",
     "text": [
      "name:dixitha\n",
      "age:32\n",
      "coutry:india\n"
     ]
    }
   ],
   "source": [
    "print_details(name='dixitha',age='32',coutry='india')"
   ]
  },
  {
   "cell_type": "code",
   "execution_count": 34,
   "metadata": {},
   "outputs": [],
   "source": [
    "def print_details(*args,**kwargs):\n",
    "    for val in args:\n",
    "        print(f\"Positional arguents:{val}\")\n",
    "    for key,value in kwargs.items():\n",
    "        print(f\"key and pair arguments {key}:{value}\")"
   ]
  },
  {
   "cell_type": "code",
   "execution_count": 36,
   "metadata": {},
   "outputs": [
    {
     "name": "stdout",
     "output_type": "stream",
     "text": [
      "Positional arguents:1\n",
      "Positional arguents:2\n",
      "Positional arguents:3\n",
      "Positional arguents:4\n",
      "Positional arguents:5\n",
      "key and pair arguments name:dixitha\n",
      "key and pair arguments age:32\n",
      "key and pair arguments coutry:india\n"
     ]
    }
   ],
   "source": [
    "print_details(1,2,3,4,5,name='dixitha',age='32',coutry='india')"
   ]
  },
  {
   "cell_type": "code",
   "execution_count": 38,
   "metadata": {},
   "outputs": [
    {
     "data": {
      "text/plain": [
       "(4, 1)"
      ]
     },
     "execution_count": 38,
     "metadata": {},
     "output_type": "execute_result"
    }
   ],
   "source": [
    "# Return statements and muliple parameters from a function\n",
    "\n",
    "def muliply_function(a,b):\n",
    "    c=a*b,a\n",
    "    return c\n",
    "muliply_function(1,4)"
   ]
  },
  {
   "cell_type": "code",
   "execution_count": 42,
   "metadata": {},
   "outputs": [
    {
     "data": {
      "text/plain": [
       "32.22222222222222"
      ]
     },
     "execution_count": 42,
     "metadata": {},
     "output_type": "execute_result"
    }
   ],
   "source": [
    "## Function Practice\n",
    "\n",
    "# 1) tempreture conversion function\n",
    "\n",
    "def temperature_convertor(temp,unit):\n",
    "    '''This function converts tempreture between celcius and fahrenite'''\n",
    "\n",
    "    if unit==\"C\":\n",
    "\n",
    "        return temp*9/5 + 35  ## c to f\n",
    "    elif unit==\"F\":\n",
    "        return (temp-32)*5/9 ## f to c\n",
    "    else:\n",
    "        return (\" change the unit\")\n",
    "    \n",
    "\n",
    "temperature_convertor(33,'C')  \n",
    "temperature_convertor (90,\"F\")  \n",
    " \n",
    "\n",
    "    \n",
    "\n",
    "\n",
    "\n",
    "\n",
    "\n",
    "\n",
    "\n"
   ]
  },
  {
   "cell_type": "code",
   "execution_count": 44,
   "metadata": {},
   "outputs": [
    {
     "name": "stdout",
     "output_type": "stream",
     "text": [
      "False\n",
      "True\n"
     ]
    }
   ],
   "source": [
    "## Password shrenght checher\n",
    "\n",
    "def Strong_password(password):\n",
    "    \"\"\"This function will check the passwords strenght\"\"\"\n",
    "\n",
    "    if len(password)<8:\n",
    "        return False\n",
    "    if not any(char.isdigit() for char in password):\n",
    "        return False\n",
    "    if not any (char.islower() for char in password):\n",
    "        return False\n",
    "    if not any(char.isupper() for char in password):\n",
    "        return False\n",
    "    if not any (char in '!@#$%&*()_+' for char in password):\n",
    "        return False\n",
    "    return True\n",
    "\n",
    "print(Strong_password(\"wers%666\"))\n",
    "print(Strong_password('Dixitha@123'))\n"
   ]
  },
  {
   "cell_type": "code",
   "execution_count": 46,
   "metadata": {},
   "outputs": [
    {
     "name": "stdout",
     "output_type": "stream",
     "text": [
      "2.0\n",
      "None\n"
     ]
    }
   ],
   "source": [
    "##Calculate the total cost of items in shopping cart\n",
    "\n",
    "def total_calculat_cost(cart):\n",
    "    total_cost=0\n",
    "    for item in cart:\n",
    "        total_cost=item['price']*item['quality']\n",
    "        return total_cost\n",
    "#example of cart\n",
    "\n",
    "cart=[\n",
    "    {'name':\"Apple\",'price':0.5,'quality':4},\n",
    "    {'name':'banana','price':1,'quality':9},\n",
    "    {'name':'kiwi','price':1,'quality':90}\n",
    "\n",
    "\n",
    "\n",
    "]\n",
    "\n",
    "#calling function\n",
    "total_cost=print(total_calculat_cost(cart))\n",
    "print(total_cost)\n"
   ]
  },
  {
   "cell_type": "code",
   "execution_count": null,
   "metadata": {},
   "outputs": [],
   "source": []
  }
 ],
 "metadata": {
  "kernelspec": {
   "display_name": "Python 3",
   "language": "python",
   "name": "python3"
  },
  "language_info": {
   "codemirror_mode": {
    "name": "ipython",
    "version": 3
   },
   "file_extension": ".py",
   "mimetype": "text/x-python",
   "name": "python",
   "nbconvert_exporter": "python",
   "pygments_lexer": "ipython3",
   "version": "3.10.6"
  }
 },
 "nbformat": 4,
 "nbformat_minor": 2
}
