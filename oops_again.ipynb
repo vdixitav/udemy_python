{
 "cells": [
  {
   "cell_type": "code",
   "execution_count": 6,
   "metadata": {},
   "outputs": [
    {
     "name": "stdout",
     "output_type": "stream",
     "text": [
      " I am good enoght\n",
      "Help on class Student in module __main__:\n",
      "\n",
      "class Student(builtins.object)\n",
      " |  I am good enoght\n",
      " |  \n",
      " |  Data descriptors defined here:\n",
      " |  \n",
      " |  __dict__\n",
      " |      dictionary for instance variables\n",
      " |  \n",
      " |  __weakref__\n",
      " |      list of weak references to the object\n",
      "\n"
     ]
    }
   ],
   "source": [
    "class Student:\n",
    "    \"\"\" I am good enoght\"\"\"\n",
    "print(Student.__doc__)\n",
    "help(Student)"
   ]
  },
  {
   "cell_type": "code",
   "execution_count": 13,
   "metadata": {},
   "outputs": [
    {
     "name": "stdout",
     "output_type": "stream",
     "text": [
      "my name is dixitha\n",
      "my age is 30\n",
      "i got 90\n"
     ]
    }
   ],
   "source": [
    "## eg for variables and class\n",
    "\n",
    "class Student1:\n",
    "    \"\"\"developed by dixitha\"\"\"\n",
    "\n",
    "    def __init__(self) :\n",
    "        self.name=\"dixitha\"\n",
    "        self.age=30\n",
    "        self.marks=90\n",
    "\n",
    "    def talk(self):\n",
    "        print (\"my name is\",self.name)\n",
    "        print(\"my age is\",self.age)\n",
    "        print(\"i got\",self.marks)   \n",
    "\n",
    "student=Student1()\n",
    "student.talk()        "
   ]
  },
  {
   "cell_type": "code",
   "execution_count": 18,
   "metadata": {},
   "outputs": [
    {
     "name": "stdout",
     "output_type": "stream",
     "text": [
      "my name is dixitha\n"
     ]
    }
   ],
   "source": [
    "# write a programe to create student class and create object to it.and call method talk for details\n",
    "\n",
    "\n",
    "class Student2:\n",
    "    def __init__(self,name,age,marks) : # constructor\n",
    "        self.name=name\n",
    "        self.age=age\n",
    "        self.marks=marks\n",
    "\n",
    "    def talk(self): # instance method\n",
    "        print(\"my name is\",self.name)\n",
    "\n",
    "\n",
    "student1=Student2('dixitha',28,80)\n",
    "student1.talk()        \n"
   ]
  },
  {
   "cell_type": "code",
   "execution_count": 19,
   "metadata": {},
   "outputs": [],
   "source": [
    "# constructor = main purpose of cont.is to declared and initialized instance variable\n",
    "\n",
    "def __init__(self,name,age,rollno,marks):\n",
    "    self.name=name\n",
    "    self.age=age\n",
    "    self.rollno=rollno\n",
    "    self.marks=marks"
   ]
  },
  {
   "cell_type": "code",
   "execution_count": 25,
   "metadata": {},
   "outputs": [
    {
     "name": "stdout",
     "output_type": "stream",
     "text": [
      "constructor execution\n",
      "constructor execution\n",
      "constructor execution\n",
      "method execution\n"
     ]
    }
   ],
   "source": [
    "# programe demonistare construtor will execute only once per object\n",
    "\n",
    "class Test:\n",
    "    def __init__(self):\n",
    "        print(\"constructor execution\")\n",
    "\n",
    "    def m1(self):\n",
    "        print(\"method execution\")  \n",
    "\n",
    "\n",
    "t1=Test()\n",
    "t2=Test()\n",
    "t3=Test()\n",
    "t1.m1()          "
   ]
  },
  {
   "cell_type": "code",
   "execution_count": 29,
   "metadata": {},
   "outputs": [],
   "source": [
    "# programe\n",
    "\n",
    "class Student:\n",
    "    def __init__(self,x,y,z):\n",
    "        self.name=x\n",
    "        self.rollno=y\n",
    "        self.marks=z\n",
    "\n",
    "    def display(self):\n",
    "        print(\"student name:{}\\n rollno:{}\\n marks:{}\".format(self.name,self.rollno,self.marks))    "
   ]
  },
  {
   "cell_type": "code",
   "execution_count": 30,
   "metadata": {},
   "outputs": [
    {
     "name": "stdout",
     "output_type": "stream",
     "text": [
      "student name:dixitha\n",
      " rollno:101\n",
      " marks:90\n"
     ]
    }
   ],
   "source": [
    "s1=Student(\"dixitha\",101,90)\n",
    "s1.display()"
   ]
  },
  {
   "cell_type": "markdown",
   "metadata": {},
   "source": [
    "How to access instance variables"
   ]
  },
  {
   "cell_type": "code",
   "execution_count": 35,
   "metadata": {},
   "outputs": [
    {
     "name": "stdout",
     "output_type": "stream",
     "text": [
      "10\n",
      "20\n"
     ]
    }
   ],
   "source": [
    "class Test:\n",
    "    def __init__(self):\n",
    "        self.a=10\n",
    "        self.b=20\n",
    "    def display(self):\n",
    "        print(self.a)  \n",
    "        print(self.b)  \n",
    "\n",
    "\n",
    "t=Test()\n",
    "t.display()\n",
    "# print(t.a,t.b)        "
   ]
  },
  {
   "cell_type": "markdown",
   "metadata": {},
   "source": [
    "how to delet\n"
   ]
  },
  {
   "cell_type": "code",
   "execution_count": null,
   "metadata": {},
   "outputs": [],
   "source": [
    "class Test:\n",
    "    def __init__(self):\n",
    "        self.a=10\n",
    "        self.b=20\n",
    "    def display(self):\n",
    "        print(self.a)  \n",
    "        print(self.b)  \n"
   ]
  }
 ],
 "metadata": {
  "kernelspec": {
   "display_name": "Python 3",
   "language": "python",
   "name": "python3"
  },
  "language_info": {
   "codemirror_mode": {
    "name": "ipython",
    "version": 3
   },
   "file_extension": ".py",
   "mimetype": "text/x-python",
   "name": "python",
   "nbconvert_exporter": "python",
   "pygments_lexer": "ipython3",
   "version": "3.11.7"
  }
 },
 "nbformat": 4,
 "nbformat_minor": 2
}
