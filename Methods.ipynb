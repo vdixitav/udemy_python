{
 "cells": [
  {
   "cell_type": "code",
   "execution_count": 1,
   "metadata": {},
   "outputs": [],
   "source": [
    "# setter method\n",
    "# syntax\n",
    "\n",
    "def setVariable(self,variable):\n",
    "    self.variable=variable # setter method"
   ]
  },
  {
   "cell_type": "code",
   "execution_count": 2,
   "metadata": {},
   "outputs": [],
   "source": [
    "# getter method\n",
    "\n",
    "# syntax\n",
    "\n",
    "def getVriable(self,variable):\n",
    "    return self.variabe\n",
    "\n",
    "\n"
   ]
  },
  {
   "cell_type": "code",
   "execution_count": 3,
   "metadata": {},
   "outputs": [],
   "source": [
    "# programme\n",
    "class Student:\n",
    "    def setName(self,name): # setter method\n",
    "        self.name=name\n",
    "\n",
    "\n",
    "    def getName(self):  # getter method\n",
    "        return self.name  \n",
    "\n",
    "    def setMarks(self,marks):\n",
    "        self.marks=marks\n",
    "\n",
    "\n",
    "    def getMarks(self):\n",
    "        return self.marks    "
   ]
  },
  {
   "cell_type": "markdown",
   "metadata": {},
   "source": [
    "2.Class method"
   ]
  },
  {
   "cell_type": "code",
   "execution_count": 4,
   "metadata": {},
   "outputs": [],
   "source": [
    "class Animal:\n",
    "    legs=4\n",
    "    @classmethod\n",
    "    def walk(cls,name):\n",
    "        print('{}walk with{}legs'.format(name,cls.legs))"
   ]
  },
  {
   "cell_type": "markdown",
   "metadata": {},
   "source": [
    "3. Static method\n"
   ]
  },
  {
   "cell_type": "code",
   "execution_count": 6,
   "metadata": {},
   "outputs": [
    {
     "name": "stdout",
     "output_type": "stream",
     "text": [
      "sum: 30\n"
     ]
    }
   ],
   "source": [
    "class Durgamaths:\n",
    "    @staticmethod\n",
    "    def add(x,y):\n",
    "        print(\"sum:\",x+y)\n",
    "\n",
    "Durgamaths.add(10,20)        "
   ]
  },
  {
   "cell_type": "markdown",
   "metadata": {},
   "source": [
    "Passing members of one class to onother class"
   ]
  },
  {
   "cell_type": "code",
   "execution_count": 7,
   "metadata": {},
   "outputs": [
    {
     "ename": "TypeError",
     "evalue": "Employee.__init__() missing 2 required positional arguments: 'ename' and 'esal'",
     "output_type": "error",
     "traceback": [
      "\u001b[1;31m---------------------------------------------------------------------------\u001b[0m",
      "\u001b[1;31mTypeError\u001b[0m                                 Traceback (most recent call last)",
      "Cell \u001b[1;32mIn[7], line 20\u001b[0m\n\u001b[0;32m     16\u001b[0m         emy\u001b[38;5;241m.\u001b[39mesal\u001b[38;5;241m=\u001b[39memy\u001b[38;5;241m.\u001b[39mesal\u001b[38;5;241m+\u001b[39m\u001b[38;5;241m100\u001b[39m\n\u001b[0;32m     17\u001b[0m         emy\u001b[38;5;241m.\u001b[39mdisplay()\n\u001b[1;32m---> 20\u001b[0m e\u001b[38;5;241m=\u001b[39mEmployee(\u001b[38;5;241m100\u001b[39m)\n\u001b[0;32m     21\u001b[0m Test\u001b[38;5;241m.\u001b[39mmodify(e)\n",
      "\u001b[1;31mTypeError\u001b[0m: Employee.__init__() missing 2 required positional arguments: 'ename' and 'esal'"
     ]
    }
   ],
   "source": [
    "class Employee:\n",
    "    def __init__(self,eno,ename,esal):\n",
    "        self.eno=eno\n",
    "        self.ename=ename\n",
    "        self.esal=esal\n",
    "\n",
    "\n",
    "    def display(self):\n",
    "        print(\"name;\",self.ename)\n",
    "        print('no:,',self.eno)\n",
    "        print('sal:',self.esal)\n",
    "\n",
    "\n",
    "class Test:\n",
    "    def modify(emy):\n",
    "        emy.esal=emy.esal+100\n",
    "        emy.display()\n",
    "\n",
    "\n",
    "e=Employee(100)\n",
    "Test.modify(e)        "
   ]
  },
  {
   "cell_type": "code",
   "execution_count": null,
   "metadata": {},
   "outputs": [],
   "source": []
  }
 ],
 "metadata": {
  "kernelspec": {
   "display_name": "Python 3",
   "language": "python",
   "name": "python3"
  },
  "language_info": {
   "codemirror_mode": {
    "name": "ipython",
    "version": 3
   },
   "file_extension": ".py",
   "mimetype": "text/x-python",
   "name": "python",
   "nbconvert_exporter": "python",
   "pygments_lexer": "ipython3",
   "version": "3.11.7"
  }
 },
 "nbformat": 4,
 "nbformat_minor": 2
}
